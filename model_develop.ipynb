{
 "cells": [
  {
   "cell_type": "code",
   "execution_count": 1,
   "metadata": {
    "collapsed": false
   },
   "outputs": [],
   "source": [
    "import os\n",
    "import sys\n",
    "import pandas as pd\n",
    "import numpy as np\n",
    "import lightfm\n",
    "import scipy.sparse as sps\n",
    "import scipy.sparse.linalg as splinalg"
   ]
  },
  {
   "cell_type": "code",
   "execution_count": 2,
   "metadata": {
    "collapsed": true
   },
   "outputs": [],
   "source": [
    "threads=10"
   ]
  },
  {
   "cell_type": "code",
   "execution_count": 3,
   "metadata": {
    "collapsed": true
   },
   "outputs": [],
   "source": [
    "i=40"
   ]
  },
  {
   "cell_type": "code",
   "execution_count": 4,
   "metadata": {
    "collapsed": false
   },
   "outputs": [
    {
     "name": "stdout",
     "output_type": "stream",
     "text": [
      "running batch 40\n"
     ]
    }
   ],
   "source": [
    "print(\"running batch %d\" % i)\n",
    "batch = pd.read_csv(\"batches/batch_%d_train.dat\" % i)\n",
    "test_users = pd.read_csv(\"batches/batch_%d_test.dat\" % i)"
   ]
  },
  {
   "cell_type": "code",
   "execution_count": 5,
   "metadata": {
    "collapsed": true
   },
   "outputs": [],
   "source": [
    "model = lightfm.LightFM(\n",
    "    loss='warp',\n",
    "    no_components=10,\n",
    "    learning_rate=0.004,\n",
    "    learning_schedule=\"adadelta\"\n",
    ")"
   ]
  },
  {
   "cell_type": "code",
   "execution_count": 6,
   "metadata": {
    "collapsed": true
   },
   "outputs": [],
   "source": [
    "maxover = batch.groupby('user').item.count().max()"
   ]
  },
  {
   "cell_type": "code",
   "execution_count": 7,
   "metadata": {
    "collapsed": false
   },
   "outputs": [],
   "source": [
    "topk = 100\n",
    "\n",
    "def get_ranklists(model, users, items, test):\n",
    "    import concurrent.futures\n",
    "    executor = concurrent.futures.ThreadPoolExecutor(threads)\n",
    "    def predu(i):\n",
    "        scores = model.predict(\n",
    "            i,\n",
    "            items,\n",
    "            num_threads=1\n",
    "        )\n",
    "        return items[np.argsort(scores)[-(topk+maxover):][::-1]]\n",
    "    \n",
    "    preds = list(executor.map(predu, users))\n",
    "    lists = pd.DataFrame({\n",
    "        'user': np.repeat(users, topk+maxover),\n",
    "        'item': np.ndarray.flatten(np.array(preds)),\n",
    "        'pos': np.tile(np.arange(topk+maxover)+1, len(users))\n",
    "    })\n",
    "    return lists"
   ]
  },
  {
   "cell_type": "code",
   "execution_count": 8,
   "metadata": {
    "collapsed": false
   },
   "outputs": [],
   "source": [
    "uim_train = sps.coo_matrix((np.ones(len(batch)),tuple(zip(*batch[['user','item']].values))))"
   ]
  },
  {
   "cell_type": "code",
   "execution_count": 9,
   "metadata": {
    "collapsed": false
   },
   "outputs": [
    {
     "name": "stdout",
     "output_type": "stream",
     "text": [
      "Epoch 0\n",
      "Epoch 1\n",
      "Epoch 2\n",
      "Epoch 3\n",
      "Epoch 4\n",
      "Epoch 5\n",
      "Epoch 6\n",
      "Epoch 7\n",
      "Epoch 8\n",
      "Epoch 9\n",
      "Epoch 10\n",
      "Epoch 11\n",
      "Epoch 12\n",
      "Epoch 13\n",
      "Epoch 14\n",
      "Epoch 15\n",
      "Epoch 16\n",
      "Epoch 17\n",
      "Epoch 18\n",
      "Epoch 19\n",
      "Epoch 20\n",
      "Epoch 21\n",
      "Epoch 22\n",
      "Epoch 23\n",
      "Epoch 24\n",
      "Epoch 25\n",
      "Epoch 26\n",
      "Epoch 27\n",
      "Epoch 28\n",
      "Epoch 29\n"
     ]
    }
   ],
   "source": [
    "model = model.fit_partial(\n",
    "    uim_train,\n",
    "    epochs=30,\n",
    "    num_threads=threads,\n",
    "    verbose=True\n",
    ")"
   ]
  },
  {
   "cell_type": "code",
   "execution_count": 10,
   "metadata": {
    "collapsed": true
   },
   "outputs": [],
   "source": [
    "real_test_users = test_users.user[test_users.user.isin(batch.user.unique())].values\n",
    "ranklists = get_ranklists(model, real_test_users, batch.item.unique(), None)"
   ]
  },
  {
   "cell_type": "code",
   "execution_count": 11,
   "metadata": {
    "collapsed": false
   },
   "outputs": [],
   "source": [
    "# filtering seen items\n",
    "ranklists_j = ranklists.join(batch.set_index(['user','item'])['score'], on=['user','item'])\n",
    "ranklists_j_new = ranklists_j[ranklists_j['score'].isnull()].copy()\n",
    "ranklists_j_new.rename(columns={'pos':'oldpos'}, inplace=True)\n",
    "ranklists_j_new.sort_values('oldpos', inplace=True)\n",
    "ranklists_j_new['pos'] = 1\n",
    "ranklists_j_new['pos'] = ranklists_j_new.groupby('user').pos.transform(np.cumsum)"
   ]
  },
  {
   "cell_type": "code",
   "execution_count": 12,
   "metadata": {
    "collapsed": false
   },
   "outputs": [],
   "source": [
    "ranklists_j_new[ranklists_j_new.pos <= 100][['user', 'item', 'pos']].to_csv('batches/batch_%d_predictions.dat' % i, sep=' ', header=False)"
   ]
  },
  {
   "cell_type": "code",
   "execution_count": null,
   "metadata": {
    "collapsed": true
   },
   "outputs": [],
   "source": []
  }
 ],
 "metadata": {
  "kernelspec": {
   "display_name": "Python 3",
   "language": "python",
   "name": "python3"
  },
  "language_info": {
   "codemirror_mode": {
    "name": "ipython",
    "version": 3
   },
   "file_extension": ".py",
   "mimetype": "text/x-python",
   "name": "python",
   "nbconvert_exporter": "python",
   "pygments_lexer": "ipython3",
   "version": "3.5.2"
  }
 },
 "nbformat": 4,
 "nbformat_minor": 2
}
